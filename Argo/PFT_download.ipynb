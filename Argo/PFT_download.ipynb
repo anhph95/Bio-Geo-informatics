{
 "cells": [
  {
   "cell_type": "code",
   "execution_count": 3,
   "id": "17f9e9cc",
   "metadata": {},
   "outputs": [],
   "source": [
    "import xarray as xr\n",
    "import pandas as pd\n",
    "import numpy as np\n",
    "import multiprocessing\n",
    "import os\n",
    "import glob"
   ]
  },
  {
   "cell_type": "code",
   "execution_count": 22,
   "id": "39114f9b",
   "metadata": {
    "scrolled": true
   },
   "outputs": [],
   "source": [
    "# HDV file\n",
    "\n",
    "out = pd.read_excel(\"atlantic/1902380_hdv.xlsx\")"
   ]
  },
  {
   "cell_type": "code",
   "execution_count": 27,
   "id": "7f083a1d",
   "metadata": {},
   "outputs": [],
   "source": [
    "# PFT file\n",
    "pft=xr.open_dataset(\"https://my.cmems-du.eu/thredds/dodsC/cmems_obs-oc_glo_bgc-plankton_my_l3-multi-4km_P1D\")"
   ]
  },
  {
   "cell_type": "code",
   "execution_count": 24,
   "id": "1347184c",
   "metadata": {},
   "outputs": [],
   "source": [
    "# Function for parallelization\n",
    "def parallelize(func, df):\n",
    "    num_cores = multiprocessing.cpu_count()-1  # leave one free to not freeze machine\n",
    "    df_split = np.array_split(df, num_cores) # split dataframe into chunks\n",
    "    pool = multiprocessing.Pool(num_cores) # number of pool\n",
    "    df = pd.concat(pool.map(func, df_split)) # concatenate result\n",
    "    pool.close()\n",
    "    pool.join()\n",
    "    return df"
   ]
  },
  {
   "cell_type": "code",
   "execution_count": 21,
   "id": "6af74a85",
   "metadata": {},
   "outputs": [
    {
     "ename": "NameError",
     "evalue": "name 'out' is not defined",
     "output_type": "error",
     "traceback": [
      "\u001b[0;31m---------------------------------------------------------------------------\u001b[0m",
      "\u001b[0;31mNameError\u001b[0m                                 Traceback (most recent call last)",
      "Cell \u001b[0;32mIn[21], line 5\u001b[0m\n\u001b[1;32m      3\u001b[0m var_list \u001b[38;5;241m=\u001b[39m [\u001b[38;5;124m'\u001b[39m\u001b[38;5;124mCHL\u001b[39m\u001b[38;5;124m'\u001b[39m,\u001b[38;5;124m'\u001b[39m\u001b[38;5;124mDIATO\u001b[39m\u001b[38;5;124m'\u001b[39m,\u001b[38;5;124m'\u001b[39m\u001b[38;5;124mHAPTO\u001b[39m\u001b[38;5;124m'\u001b[39m,\u001b[38;5;124m'\u001b[39m\u001b[38;5;124mGREEN\u001b[39m\u001b[38;5;124m'\u001b[39m,\u001b[38;5;124m'\u001b[39m\u001b[38;5;124mPROKAR\u001b[39m\u001b[38;5;124m'\u001b[39m,\u001b[38;5;124m'\u001b[39m\u001b[38;5;124mPROCHLO\u001b[39m\u001b[38;5;124m'\u001b[39m,\u001b[38;5;124m'\u001b[39m\u001b[38;5;124mMICRO\u001b[39m\u001b[38;5;124m'\u001b[39m,\u001b[38;5;124m'\u001b[39m\u001b[38;5;124mNANO\u001b[39m\u001b[38;5;124m'\u001b[39m,\u001b[38;5;124m'\u001b[39m\u001b[38;5;124mPICO\u001b[39m\u001b[38;5;124m'\u001b[39m]\n\u001b[1;32m      4\u001b[0m \u001b[38;5;28;01mfor\u001b[39;00m i \u001b[38;5;129;01min\u001b[39;00m var_list:\n\u001b[0;32m----> 5\u001b[0m     out[i] \u001b[38;5;241m=\u001b[39m \u001b[43mout\u001b[49m[\u001b[38;5;124m'\u001b[39m\u001b[38;5;124mCycle\u001b[39m\u001b[38;5;124m'\u001b[39m]\n\u001b[1;32m      7\u001b[0m \u001b[38;5;28;01mdef\u001b[39;00m \u001b[38;5;21mPFT_mining\u001b[39m(df):\n\u001b[1;32m      8\u001b[0m     \u001b[38;5;28;01mfor\u001b[39;00m index, row \u001b[38;5;129;01min\u001b[39;00m df\u001b[38;5;241m.\u001b[39miterrows():\n",
      "\u001b[0;31mNameError\u001b[0m: name 'out' is not defined"
     ]
    }
   ],
   "source": [
    "# Exact date\n",
    "# List of variable to mine\n",
    "var_list = ['CHL','DIATO','HAPTO','GREEN','PROKAR','PROCHLO','MICRO','NANO','PICO']\n",
    "for i in var_list:\n",
    "    out[i] = out['Cycle']\n",
    "\n",
    "def PFT_mining(df):\n",
    "    for index, row in df.iterrows():\n",
    "        temp = pft.sel(time=row['Date'],lat=row['Lat'],lon=row['Lon'],method=\"nearest\")\n",
    "        for i in var_list:\n",
    "            df.at[index,i] = temp[i].values\n",
    "    return df\n",
    "\n"
   ]
  },
  {
   "cell_type": "code",
   "execution_count": null,
   "id": "2e590103",
   "metadata": {},
   "outputs": [],
   "source": [
    "# Rolling 3 day, 1 core run\n",
    "out['CHL'] = out['Cycle']\n",
    "out['DIATO'] = out['Cycle']\n",
    "out['DINO'] = out['Cycle']\n",
    "out['HAPTO'] = out['Cycle']\n",
    "out['GREEN'] = out['Cycle']\n",
    "out['PROKAR'] = out['Cycle']\n",
    "out['PROCHLO'] = out['Cycle']\n",
    "out['MICRO'] = out['Cycle']\n",
    "out['NANO'] = out['Cycle']\n",
    "out['PICO'] = out['Cycle']\n",
    "\n",
    "for index, row in out.iterrows():\n",
    "    date_range = slice(row['Date']-np.timedelta64(24,'h'),row['Date']+np.timedelta64(24,'h'))\n",
    "    temp = pft.sel(lat=row['Lat'],lon=row['Lon'],method=\"nearest\").sel(time=date_range)\n",
    "    mean = temp.mean('time')\n",
    "    out.at[index,'CHL'] = mean.CHL.values\n",
    "    out.at[index,'DIATO'] = mean.DIATO.values\n",
    "    out.at[index,'DINO'] = mean.DINO.values\n",
    "    out.at[index,'HAPTO'] = mean.HAPTO.values\n",
    "    out.at[index,'GREEN'] = mean.GREEN.values\n",
    "    out.at[index,'PROKAR'] = mean.PROKAR.values\n",
    "    out.at[index,'PROCHLO'] = mean.PROCHLO.values\n",
    "    out.at[index,'MICRO'] = mean.MICRO.values\n",
    "    out.at[index,'NANO'] = mean.NANO.values\n",
    "    out.at[index,'PICO'] = mean.PICO.values\n",
    "out"
   ]
  },
  {
   "cell_type": "code",
   "execution_count": 25,
   "id": "da140470",
   "metadata": {},
   "outputs": [],
   "source": [
    "# Multi-core run\n",
    "# Function to mine data\n",
    "def PFT_mining(df):\n",
    "    for index, row in df.iterrows():\n",
    "        date_range = slice(row['Date']-np.timedelta64(24,'h'),row['Date']+np.timedelta64(24,'h'))\n",
    "        temp = pft.sel(lat=row['Lat'],lon=row['Lon'],method=\"nearest\").sel(time=date_range)\n",
    "        mean = temp.mean('time')\n",
    "        for i in var_list:\n",
    "            df.at[index,i] = mean[i].values\n",
    "    return df\n",
    "\n"
   ]
  },
  {
   "cell_type": "code",
   "execution_count": 28,
   "id": "5991bea9",
   "metadata": {},
   "outputs": [],
   "source": [
    "# List of variable to mine\n",
    "var_list = ['CHL','DIATO','HAPTO','GREEN','PROKAR','PROCHLO','MICRO','NANO','PICO']\n",
    "for i in var_list:\n",
    "    out[i] = out['Cycle']\n",
    "        \n",
    "result = parallelize(PFT_mining,out)"
   ]
  },
  {
   "cell_type": "code",
   "execution_count": 31,
   "id": "12b521c6",
   "metadata": {},
   "outputs": [
    {
     "data": {
      "text/plain": [
       "1902380"
      ]
     },
     "execution_count": 31,
     "metadata": {},
     "output_type": "execute_result"
    }
   ],
   "source": [
    "out['Float'][1]"
   ]
  },
  {
   "cell_type": "code",
   "execution_count": 21,
   "id": "7efb62e3",
   "metadata": {},
   "outputs": [],
   "source": [
    "result.to_excel('5906339_hdv_PFT.xlsx')"
   ]
  },
  {
   "cell_type": "code",
   "execution_count": 34,
   "id": "ba9a9ad5",
   "metadata": {},
   "outputs": [],
   "source": [
    "# PFT file\n",
    "pft=xr.open_dataset(\"https://my.cmems-du.eu/thredds/dodsC/cmems_obs-oc_glo_bgc-plankton_my_l3-multi-4km_P1D\")\n",
    "#filedir = os.path.expanduser('~')+\"/OneDrive/Bioinformatics/argo/atlantic/\"\n",
    "filenames = glob.glob(\"atlantic/*.xlsx\")\n",
    "for file in filenames:\n",
    "    out = pd.read_excel(file)\n",
    "    # List of variable to mine\n",
    "    var_list = ['CHL','DIATO','HAPTO','GREEN','PROKAR','PROCHLO','MICRO','NANO','PICO']\n",
    "    for i in var_list:\n",
    "        out[i] = out['Cycle']\n",
    "    result = parallelize(PFT_mining,out)\n",
    "    name = result['Float'][1]\n",
    "    result.to_excel(f'{name}_hdv_PFT.xlsx')\n",
    "    "
   ]
  }
 ],
 "metadata": {
  "kernelspec": {
   "display_name": "Python 3 (ipykernel)",
   "language": "python",
   "name": "python3"
  },
  "language_info": {
   "codemirror_mode": {
    "name": "ipython",
    "version": 3
   },
   "file_extension": ".py",
   "mimetype": "text/x-python",
   "name": "python",
   "nbconvert_exporter": "python",
   "pygments_lexer": "ipython3",
   "version": "3.10.8"
  }
 },
 "nbformat": 4,
 "nbformat_minor": 5
}
